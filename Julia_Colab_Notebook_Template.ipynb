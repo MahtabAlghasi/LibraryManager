{
  "nbformat": 4,
  "nbformat_minor": 0,
  "metadata": {
    "colab": {
      "provenance": []
    },
    "kernelspec": {
      "display_name": "Julia",
      "language": "julia",
      "name": "julia"
    },
    "language_info": {
      "file_extension": ".jl",
      "mimetype": "application/julia",
      "name": "julia"
    },
    "gpuClass": "standard"
  },
  "cells": [
    {
      "cell_type": "markdown",
      "metadata": {
        "id": "tQ1r1bbb0yBv"
      },
      "source": [
        "# <img src=\"https://github.com/JuliaLang/julia-logo-graphics/raw/master/images/julia-logo-color.png\" height=\"100\" /> _Colab Notebook Template_\n",
        "\n",
        "## Instructions\n",
        "1. Work on a copy of this notebook: _File_ > _Save a copy in Drive_ (you will need a Google account). Alternatively, you can download the notebook using _File_ > _Download .ipynb_, then upload it to [Colab](https://colab.research.google.com/).\n",
        "2. If you need a GPU: _Runtime_ > _Change runtime type_ > _Harware accelerator_ = _GPU_.\n",
        "3. Execute the following cell (click on it and press Ctrl+Enter) to install Julia, IJulia and other packages (if needed, update `JULIA_VERSION` and the other parameters). This takes a couple of minutes.\n",
        "4. Reload this page (press Ctrl+R, or ⌘+R, or the F5 key) and continue to the next section.\n",
        "\n",
        "_Notes_:\n",
        "* If your Colab Runtime gets reset (e.g., due to inactivity), repeat steps 2, 3 and 4.\n",
        "* After installation, if you want to change the Julia version or activate/deactivate the GPU, you will need to reset the Runtime: _Runtime_ > _Factory reset runtime_ and repeat steps 3 and 4."
      ]
    },
    {
      "cell_type": "code",
      "metadata": {
        "id": "GIeFXS0F0zww",
        "colab": {
          "base_uri": "https://localhost:8080/"
        },
        "outputId": "060067e1-9494-4045-ffc7-d1ead0347458"
      },
      "source": [
        "%%shell\n",
        "set -e\n",
        "\n",
        "#---------------------------------------------------#\n",
        "JULIA_VERSION=\"1.8.2\" # any version ≥ 0.7.0\n",
        "JULIA_PACKAGES=\"IJulia BenchmarkTools\"\n",
        "JULIA_PACKAGES_IF_GPU=\"CUDA\" # or CuArrays for older Julia versions\n",
        "JULIA_NUM_THREADS=2\n",
        "#---------------------------------------------------#\n",
        "\n",
        "if [ -z `which julia` ]; then\n",
        "  # Install Julia\n",
        "  JULIA_VER=`cut -d '.' -f -2 <<< \"$JULIA_VERSION\"`\n",
        "  echo \"Installing Julia $JULIA_VERSION on the current Colab Runtime...\"\n",
        "  BASE_URL=\"https://julialang-s3.julialang.org/bin/linux/x64\"\n",
        "  URL=\"$BASE_URL/$JULIA_VER/julia-$JULIA_VERSION-linux-x86_64.tar.gz\"\n",
        "  wget -nv $URL -O /tmp/julia.tar.gz # -nv means \"not verbose\"\n",
        "  tar -x -f /tmp/julia.tar.gz -C /usr/local --strip-components 1\n",
        "  rm /tmp/julia.tar.gz\n",
        "\n",
        "  # Install Packages\n",
        "  nvidia-smi -L &> /dev/null && export GPU=1 || export GPU=0\n",
        "  if [ $GPU -eq 1 ]; then\n",
        "    JULIA_PACKAGES=\"$JULIA_PACKAGES $JULIA_PACKAGES_IF_GPU\"\n",
        "  fi\n",
        "  for PKG in `echo $JULIA_PACKAGES`; do\n",
        "    echo \"Installing Julia package $PKG...\"\n",
        "    julia -e 'using Pkg; pkg\"add '$PKG'; precompile;\"' &> /dev/null\n",
        "  done\n",
        "\n",
        "  # Install kernel and rename it to \"julia\"\n",
        "  echo \"Installing IJulia kernel...\"\n",
        "  julia -e 'using IJulia; IJulia.installkernel(\"julia\", env=Dict(\n",
        "      \"JULIA_NUM_THREADS\"=>\"'\"$JULIA_NUM_THREADS\"'\"))'\n",
        "  KERNEL_DIR=`julia -e \"using IJulia; print(IJulia.kerneldir())\"`\n",
        "  KERNEL_NAME=`ls -d \"$KERNEL_DIR\"/julia*`\n",
        "  mv -f $KERNEL_NAME \"$KERNEL_DIR\"/julia\n",
        "\n",
        "  echo ''\n",
        "  echo \"Successfully installed `julia -v`!\"\n",
        "  echo \"Please reload this page (press Ctrl+R, ⌘+R, or the F5 key) then\"\n",
        "  echo \"jump to the 'Checking the Installation' section.\"\n",
        "fi"
      ],
      "execution_count": null,
      "outputs": [
        {
          "output_type": "stream",
          "name": "stdout",
          "text": [
            "Installing Julia 1.8.2 on the current Colab Runtime...\n",
            "2022-11-02 02:02:18 URL:https://storage.googleapis.com/julialang2/bin/linux/x64/1.8/julia-1.8.2-linux-x86_64.tar.gz [135859273/135859273] -> \"/tmp/julia.tar.gz\" [1]\n",
            "Installing Julia package IJulia...\n",
            "Installing Julia package BenchmarkTools...\n",
            "Installing IJulia kernel...\n",
            "\u001b[36m\u001b[1m[ \u001b[22m\u001b[39m\u001b[36m\u001b[1mInfo: \u001b[22m\u001b[39mInstalling julia kernelspec in /root/.local/share/jupyter/kernels/julia-1.8\n",
            "\n",
            "Successfully installed julia version 1.8.2!\n",
            "Please reload this page (press Ctrl+R, ⌘+R, or the F5 key) then\n",
            "jump to the 'Checking the Installation' section.\n"
          ]
        },
        {
          "output_type": "execute_result",
          "data": {
            "text/plain": []
          },
          "metadata": {},
          "execution_count": 1
        }
      ]
    },
    {
      "cell_type": "markdown",
      "metadata": {
        "id": "-OS3Ac017T1i"
      },
      "source": [
        "# Checking the Installation\n",
        "The `versioninfo()` function should print your Julia version and some other info about the system:"
      ]
    },
    {
      "cell_type": "code",
      "metadata": {
        "id": "EEzvvzCl1i0F",
        "colab": {
          "base_uri": "https://localhost:8080/"
        },
        "outputId": "ee86c62b-ce14-4d94-b31f-19a1eda08e69"
      },
      "source": [
        "versioninfo()"
      ],
      "execution_count": 2,
      "outputs": [
        {
          "output_type": "stream",
          "name": "stdout",
          "text": [
            "Julia Version 1.11.5\n",
            "Commit 760b2e5b739 (2025-04-14 06:53 UTC)\n",
            "Build Info:\n",
            "  Official https://julialang.org/ release\n",
            "Platform Info:\n",
            "  OS: Linux (x86_64-linux-gnu)\n",
            "  CPU: 2 × AMD EPYC 7B12\n",
            "  WORD_SIZE: 64\n",
            "  LLVM: libLLVM-16.0.6 (ORCJIT, znver2)\n",
            "Threads: 2 default, 0 interactive, 1 GC (on 2 virtual cores)\n",
            "Environment:\n",
            "  LD_LIBRARY_PATH = /usr/local/nvidia/lib:/usr/local/nvidia/lib64\n",
            "  JULIA_NUM_THREADS = auto\n"
          ]
        }
      ]
    },
    {
      "cell_type": "code",
      "source": [
        "using BenchmarkTools\n",
        "\n",
        "M = rand(2^11, 2^11)\n",
        "\n",
        "@btime $M * $M;"
      ],
      "metadata": {
        "colab": {
          "base_uri": "https://localhost:8080/",
          "height": 323
        },
        "id": "YjM_qq54lCcs",
        "outputId": "ccb15906-5382-44f4-b89a-47d44b8c54f5"
      },
      "execution_count": 3,
      "outputs": [
        {
          "output_type": "error",
          "ename": "LoadError",
          "evalue": "ArgumentError: Package BenchmarkTools not found in current path.\n- Run `import Pkg; Pkg.add(\"BenchmarkTools\")` to install the BenchmarkTools package.",
          "traceback": [
            "ArgumentError: Package BenchmarkTools not found in current path.\n- Run `import Pkg; Pkg.add(\"BenchmarkTools\")` to install the BenchmarkTools package.",
            "",
            "Stacktrace:",
            " [1] \u001b[0m\u001b[1mmacro expansion\u001b[22m",
            "\u001b[90m   @\u001b[39m \u001b[90m./\u001b[39m\u001b[90m\u001b[4mloading.jl:2296\u001b[24m\u001b[39m\u001b[90m [inlined]\u001b[39m",
            " [2] \u001b[0m\u001b[1mmacro expansion\u001b[22m",
            "\u001b[90m   @\u001b[39m \u001b[90m./\u001b[39m\u001b[90m\u001b[4mlock.jl:273\u001b[24m\u001b[39m\u001b[90m [inlined]\u001b[39m",
            " [3] \u001b[0m\u001b[1m__require\u001b[22m\u001b[0m\u001b[1m(\u001b[22m\u001b[90minto\u001b[39m::\u001b[0mModule, \u001b[90mmod\u001b[39m::\u001b[0mSymbol\u001b[0m\u001b[1m)\u001b[22m",
            "\u001b[90m   @\u001b[39m \u001b[90mBase\u001b[39m \u001b[90m./\u001b[39m\u001b[90m\u001b[4mloading.jl:2271\u001b[24m\u001b[39m",
            " [4] \u001b[0m\u001b[1m#invoke_in_world#3\u001b[22m",
            "\u001b[90m   @\u001b[39m \u001b[90m./\u001b[39m\u001b[90m\u001b[4messentials.jl:1089\u001b[24m\u001b[39m\u001b[90m [inlined]\u001b[39m",
            " [5] \u001b[0m\u001b[1minvoke_in_world\u001b[22m",
            "\u001b[90m   @\u001b[39m \u001b[90m./\u001b[39m\u001b[90m\u001b[4messentials.jl:1086\u001b[24m\u001b[39m\u001b[90m [inlined]\u001b[39m",
            " [6] \u001b[0m\u001b[1mrequire\u001b[22m\u001b[0m\u001b[1m(\u001b[22m\u001b[90minto\u001b[39m::\u001b[0mModule, \u001b[90mmod\u001b[39m::\u001b[0mSymbol\u001b[0m\u001b[1m)\u001b[22m",
            "\u001b[90m   @\u001b[39m \u001b[90mBase\u001b[39m \u001b[90m./\u001b[39m\u001b[90m\u001b[4mloading.jl:2260\u001b[24m\u001b[39m"
          ]
        }
      ]
    },
    {
      "cell_type": "code",
      "metadata": {
        "id": "XciCcMAJOT3_",
        "colab": {
          "base_uri": "https://localhost:8080/",
          "height": 91
        },
        "outputId": "1544faf4-aa41-430f-9107-3e349ad0b0d0"
      },
      "source": [
        "try\n",
        "    using CUDA\n",
        "catch\n",
        "    println(\"No GPU found.\")\n",
        "else\n",
        "    run(`nvidia-smi`)\n",
        "    # Create a new random matrix directly on the GPU:\n",
        "    M_on_gpu = CUDA.CURAND.rand(2^11, 2^11)\n",
        "    @btime $M_on_gpu * $M_on_gpu; nothing\n",
        "end"
      ],
      "execution_count": 4,
      "outputs": [
        {
          "output_type": "error",
          "ename": "LoadError",
          "evalue": "LoadError: UndefVarError: `@btime` not defined in `Main`\nSuggestion: check for spelling errors or missing imports.\nin expression starting at In[4]:9",
          "traceback": [
            "LoadError: UndefVarError: `@btime` not defined in `Main`\nSuggestion: check for spelling errors or missing imports.\nin expression starting at In[4]:9",
            ""
          ]
        }
      ]
    },
    {
      "cell_type": "code",
      "source": [],
      "metadata": {
        "id": "Hz--scjkJ_EV"
      },
      "execution_count": null,
      "outputs": []
    },
    {
      "cell_type": "markdown",
      "metadata": {
        "id": "8RC1QNNqk6h1"
      },
      "source": [
        "# Need Help?\n",
        "\n",
        "* Learning: https://julialang.org/learning/\n",
        "* Documentation: https://docs.julialang.org/\n",
        "* Questions & Discussions:\n",
        "  * https://discourse.julialang.org/\n",
        "  * http://julialang.slack.com/\n",
        "  * https://stackoverflow.com/questions/tagged/julia\n",
        "\n",
        "If you ever ask for help or file an issue about Julia, you should generally provide the output of `versioninfo()`."
      ]
    },
    {
      "cell_type": "markdown",
      "metadata": {
        "id": "2UMidUQB03vJ"
      },
      "source": [
        "Add new code cells by clicking the `+ Code` button (or _Insert_ > _Code cell_).\n",
        "\n",
        "Have fun!\n",
        "\n",
        "<img src=\"https://raw.githubusercontent.com/JuliaLang/julia-logo-graphics/master/images/julia-logo-mask.png\" height=\"100\" />"
      ]
    },
    {
      "cell_type": "code",
      "source": [
        "println(\"Hello from Julia!\")"
      ],
      "metadata": {
        "colab": {
          "base_uri": "https://localhost:8080/"
        },
        "id": "63iofiDDKAOA",
        "outputId": "a59de926-ed32-4974-a292-547ef7235c43"
      },
      "execution_count": 6,
      "outputs": [
        {
          "output_type": "stream",
          "name": "stdout",
          "text": [
            "Hello from Julia!\n"
          ]
        }
      ]
    },
    {
      "cell_type": "code",
      "source": [
        "# Q6_analysis.jl\n",
        "# This script defines the Q6 polyhedron (Mx >= 1, x >= 0) WITH upper bounds,\n",
        "# finds its extreme points and rays, and then analyzes a subset of extreme points.\n",
        "\n",
        "import Pkg\n",
        "Pkg.add(\"Polymake\")\n",
        "\n",
        "using Polymake\n",
        "using LinearAlgebra # Needed for identity matrix (LinearAlgebra.I)\n",
        "\n",
        "# --- 1. Define the Polytope's H-representation (Ax <= b format) ---\n",
        "\n",
        "# M matrix as given\n",
        "M_matrix = Polymake.Matrix([\n",
        "    1 0 1 0 1 0; # Use spaces for columns, semicolon for new row\n",
        "    1 0 0 1 0 1;\n",
        "    0 1 1 0 0 1;\n",
        "    0 1 0 1 1 0   # No semicolon on the last row\n",
        "])\n",
        "\n",
        "# Convert Mx >= 1 to -Mx <= -1\n",
        "A_ub_Mx = -M_matrix\n",
        "b_ub_Mx = Polymake.Vector([-1, -1, -1, -1])\n",
        "\n",
        "# Non-negativity constraints: xj >= 0  => -xj <= 0\n",
        "A_ub_nonneg = -Polymake.Matrix(Matrix(LinearAlgebra.I, 6, 6))\n",
        "b_ub_nonneg = Polymake.Vector([0, 0, 0, 0, 0, 0])\n",
        "\n",
        "# Upper bounds xj <= 1  => xj <= 1\n",
        "A_ub_upper = Polymake.Matrix(Matrix(LinearAlgebra.I, 6, 6))\n",
        "b_ub_upper = Polymake.Vector([1, 1, 1, 1, 1, 1])\n",
        "\n",
        "# Combine all constraints (using Polymake's vcat for vertical concatenation)\n",
        "A_ub_combined = Polymake.vcat(A_ub_Mx, A_ub_nonneg, A_ub_upper)\n",
        "b_ub_combined = Polymake.vcat(b_ub_Mx, b_ub_nonneg, b_ub_upper)\n",
        "\n",
        "# --- Construct the Polyhedron in Polymake ---\n",
        "# Polymake Polyhedron (note: not Polytope) takes INEQUALITIES\n",
        "# Combine b and A into a single matrix for Polymake.\n",
        "h_matrix = Polymake.hcat(b_ub_combined, A_ub_combined)\n",
        "\n",
        "println(\"\\n--- Polytope Definition (in Polymake H-matrix format) ---\")\n",
        "println(\"H-matrix rows for [b | A] for Ax <= b:\\n\", h_matrix)\n",
        "\n",
        "# Create the Polyhedron object (CORRECTED: Use Polyhedron constructor)\n",
        "P = Polymake.Polyhedron(INEQUALITIES=h_matrix) # <-- CORRECTED LINE\n",
        "\n",
        "# --- 1. Find ALL Extreme Points (Vertices) of the Polytope ---\n",
        "println(\"\\n--- Computing All Extreme Points (Vertices) ---\")\n",
        "# Accessing properties like VERTICES forces computation\n",
        "# Check if it's bounded first, though with upper bounds it should be\n",
        "if P.IS_BOUNDED # Check if the constructed polyhedron is bounded\n",
        "    vertices = P.VERTICES\n",
        "    println(\"Polymake.Vector objects for vertices:\\n\", vertices)\n",
        "\n",
        "    # Convert to standard Julia Array of Floats for easier handling and display\n",
        "    all_vertices_julia = [Float64.(v) for v in vertices]\n",
        "    println(\"All Vertices (Julia Array, rounded for display):\\n\")\n",
        "    for i in 1:length(all_vertices_julia)\n",
        "        println(\"  Vertex \", i, \": \", round.(all_vertices_julia[i], digits=6))\n",
        "    end\n",
        "    println(string(\"Found \", length(all_vertices_julia), \" extreme points (vertices).\"))\n",
        "else\n",
        "    println(\"The polyhedron is unbounded, so compute_polytope_vertices is not applicable.\")\n",
        "    println(\"Access P.RAYS for extreme rays if needed.\")\n",
        "    all_vertices_julia = [] # Ensure it's empty if unbounded\n",
        "end\n",
        "\n",
        "\n",
        "# Exit if no vertices are found, as subsequent steps depend on them\n",
        "if isempty(all_vertices_julia)\n",
        "    println(\"Cannot proceed with subset analysis if no finite vertices are found.\")\n",
        "    exit()\n",
        "end\n",
        "\n",
        "# --- 2. EXAMPLE: Select a Subset of Extreme Points ---\n",
        "# Choose a subset from the computed vertices.\n",
        "# For demonstration, let's pick the first two vertices found by Polymake (adjust as needed).\n",
        "if length(all_vertices_julia) >= 2\n",
        "    subset_points = [all_vertices_julia[1], all_vertices_julia[2]] # Julia uses 1-based indexing\n",
        "    println(\"\\n--- Example Subset of Extreme Points ---\")\n",
        "    println(\"Subset Points:\\n\", subset_points)\n",
        "else\n",
        "    println(\"\\n--- Not enough vertices to form a subset example. Using first vertex. ---\")\n",
        "    subset_points = [all_vertices_julia[1]] # Just use the first one if only one exists\n",
        "end\n",
        "\n",
        "# --- 3. Identify the Smallest Face the Subset Resides On ---\n",
        "println(\"\\n--- Identifying Smallest Face ---\")\n",
        "\n",
        "# To use FACE_FROM_POINTS, we need the 1-based indices of the subset points within P.VERTICES.\n",
        "subset_indices = Int[] # Initialize an empty array to store integer indices\n",
        "for p_subset in subset_points\n",
        "    for (idx, p_all) in enumerate(all_vertices_julia)\n",
        "        # Compare points using a small tolerance for floating point equality\n",
        "        if all(abs.(p_subset - p_all) .< 1e-9)\n",
        "            push!(subset_indices, idx) # Add the 1-based index\n",
        "            break # Found it, move to next subset point\n",
        "        end\n",
        "    end\n",
        "end\n",
        "\n",
        "if isempty(subset_indices)\n",
        "    println(\"Error: Subset points not found among the computed vertices.\")\n",
        "else\n",
        "    println(\"Indices of subset points in P.VERTICES (1-based): \", subset_indices)\n",
        "\n",
        "    # Get the face object from Polymake using its indices\n",
        "    F = P.FACE_FROM_POINTS(subset_indices)\n",
        "    println(\"Smallest face containing the subset (as a Polymake Polytope object): \", F) # F is a Polyhedron/Polytope object\n",
        "\n",
        "    # --- 4. Calculate the Dimension of That Face ---\n",
        "    println(\"\\n--- Calculating Face Dimension ---\")\n",
        "    face_dimension = F.DIM # Access the dimension property of the face object\n",
        "    println(\"The dimension of the smallest face containing the subset is: \", face_dimension)\n",
        "end\n",
        "\n",
        "# --- 5. Access the Face Lattice (More Advanced) ---\n",
        "println(\"\\n--- Accessing Face Lattice (Example) ---\")\n",
        "# This can be computationally intensive for high dimensions/many vertices.\n",
        "# lattice = P.FACE_LATTICE # Uncomment with caution for very large polyhedra\n",
        "# println(\"Face Lattice (Polymake Graph object):\", lattice)\n",
        "# println(\"Number of faces in lattice: \", lattice.N_NODES)\n",
        "\n",
        "println(\"\\n--- Analysis Complete ---\")"
      ],
      "metadata": {
        "colab": {
          "base_uri": "https://localhost:8080/",
          "height": 323
        },
        "id": "tmQUEW_cKLQx",
        "outputId": "46fe0ed6-97b0-4733-933d-a4c1f7616911"
      },
      "execution_count": 7,
      "outputs": [
        {
          "output_type": "error",
          "ename": "LoadError",
          "evalue": "ArgumentError: Package Polymake not found in current path.\n- Run `import Pkg; Pkg.add(\"Polymake\")` to install the Polymake package.",
          "traceback": [
            "ArgumentError: Package Polymake not found in current path.\n- Run `import Pkg; Pkg.add(\"Polymake\")` to install the Polymake package.",
            "",
            "Stacktrace:",
            " [1] \u001b[0m\u001b[1mmacro expansion\u001b[22m",
            "\u001b[90m   @\u001b[39m \u001b[90m./\u001b[39m\u001b[90m\u001b[4mloading.jl:2296\u001b[24m\u001b[39m\u001b[90m [inlined]\u001b[39m",
            " [2] \u001b[0m\u001b[1mmacro expansion\u001b[22m",
            "\u001b[90m   @\u001b[39m \u001b[90m./\u001b[39m\u001b[90m\u001b[4mlock.jl:273\u001b[24m\u001b[39m\u001b[90m [inlined]\u001b[39m",
            " [3] \u001b[0m\u001b[1m__require\u001b[22m\u001b[0m\u001b[1m(\u001b[22m\u001b[90minto\u001b[39m::\u001b[0mModule, \u001b[90mmod\u001b[39m::\u001b[0mSymbol\u001b[0m\u001b[1m)\u001b[22m",
            "\u001b[90m   @\u001b[39m \u001b[90mBase\u001b[39m \u001b[90m./\u001b[39m\u001b[90m\u001b[4mloading.jl:2271\u001b[24m\u001b[39m",
            " [4] \u001b[0m\u001b[1m#invoke_in_world#3\u001b[22m",
            "\u001b[90m   @\u001b[39m \u001b[90m./\u001b[39m\u001b[90m\u001b[4messentials.jl:1089\u001b[24m\u001b[39m\u001b[90m [inlined]\u001b[39m",
            " [5] \u001b[0m\u001b[1minvoke_in_world\u001b[22m",
            "\u001b[90m   @\u001b[39m \u001b[90m./\u001b[39m\u001b[90m\u001b[4messentials.jl:1086\u001b[24m\u001b[39m\u001b[90m [inlined]\u001b[39m",
            " [6] \u001b[0m\u001b[1mrequire\u001b[22m\u001b[0m\u001b[1m(\u001b[22m\u001b[90minto\u001b[39m::\u001b[0mModule, \u001b[90mmod\u001b[39m::\u001b[0mSymbol\u001b[0m\u001b[1m)\u001b[22m",
            "\u001b[90m   @\u001b[39m \u001b[90mBase\u001b[39m \u001b[90m./\u001b[39m\u001b[90m\u001b[4mloading.jl:2260\u001b[24m\u001b[39m"
          ]
        }
      ]
    },
    {
      "cell_type": "code",
      "metadata": {
        "id": "2053e4f5",
        "outputId": "89d6b667-dbc1-4c3d-9695-060be0fe654b",
        "colab": {
          "base_uri": "https://localhost:8080/"
        }
      },
      "source": [
        "import Pkg\n",
        "Pkg.add(\"Polymake\")"
      ],
      "execution_count": null,
      "outputs": [
        {
          "output_type": "stream",
          "name": "stderr",
          "text": [
            "\u001b[32m\u001b[1m    Updating\u001b[22m\u001b[39m registry at `~/.julia/registries/General.toml`\n",
            "\u001b[32m\u001b[1m   Resolving\u001b[22m\u001b[39m package versions...\n",
            "\u001b[32m\u001b[1m   Installed\u001b[22m\u001b[39m snappy_jll ─────────────── v1.2.3+0\n",
            "\u001b[32m\u001b[1m   Installed\u001b[22m\u001b[39m OpenBLAS32_jll ─────────── v0.3.29+0\n",
            "\u001b[32m\u001b[1m   Installed\u001b[22m\u001b[39m lib4ti2_jll ────────────── v1.6.10+0\n",
            "\u001b[32m\u001b[1m   Installed\u001b[22m\u001b[39m FLINT_jll ──────────────── v301.300.101+0\n",
            "\u001b[32m\u001b[1m   Installed\u001b[22m\u001b[39m TOPCOM_jll ─────────────── v0.17.8+0\n",
            "\u001b[32m\u001b[1m   Installed\u001b[22m\u001b[39m MongoC_jll ─────────────── v1.28.1+0\n",
            "\u001b[32m\u001b[1m   Installed\u001b[22m\u001b[39m Perl_jll ───────────────── v5.34.1+0\n",
            "\u001b[32m\u001b[1m   Installed\u001b[22m\u001b[39m boost_jll ──────────────── v1.87.0+0\n",
            "\u001b[32m\u001b[1m   Installed\u001b[22m\u001b[39m Hwloc_jll ──────────────── v2.12.1+0\n",
            "\u001b[32m\u001b[1m   Installed\u001b[22m\u001b[39m Mongoc ─────────────────── v0.9.2\n",
            "\u001b[32m\u001b[1m   Installed\u001b[22m\u001b[39m MUMPS_seq_jll ──────────── v500.800.0+0\n",
            "\u001b[32m\u001b[1m   Installed\u001b[22m\u001b[39m GLPK_jll ───────────────── v5.0.1+1\n",
            "\u001b[32m\u001b[1m   Installed\u001b[22m\u001b[39m nauty_jll ──────────────── v2.8.10+1\n",
            "\u001b[32m\u001b[1m   Installed\u001b[22m\u001b[39m polymake_jll ───────────── v400.1400.0+0\n",
            "\u001b[32m\u001b[1m   Installed\u001b[22m\u001b[39m BinaryWrappers ─────────── v0.1.3\n",
            "\u001b[32m\u001b[1m   Installed\u001b[22m\u001b[39m Ncurses_jll ────────────── v6.5.1+0\n",
            "\u001b[32m\u001b[1m   Installed\u001b[22m\u001b[39m libpolymake_julia_jll ──── v0.14.0+0\n",
            "\u001b[32m\u001b[1m   Installed\u001b[22m\u001b[39m METIS_jll ──────────────── v5.1.3+0\n",
            "\u001b[32m\u001b[1m   Installed\u001b[22m\u001b[39m Ipopt_jll ──────────────── v300.1400.1701+0\n",
            "\u001b[32m\u001b[1m   Installed\u001b[22m\u001b[39m libcxxwrap_julia_jll ───── v0.14.3+3\n",
            "\u001b[32m\u001b[1m   Installed\u001b[22m\u001b[39m Readline_jll ───────────── v8.2.13+0\n",
            "\u001b[32m\u001b[1m   Installed\u001b[22m\u001b[39m RandomExtensions ───────── v0.4.4\n",
            "\u001b[32m\u001b[1m   Installed\u001b[22m\u001b[39m SPRAL_jll ──────────────── v2025.5.20+0\n",
            "\u001b[32m\u001b[1m   Installed\u001b[22m\u001b[39m polymake_oscarnumber_jll ─ v0.3.9+0\n",
            "\u001b[32m\u001b[1m   Installed\u001b[22m\u001b[39m lrslib_jll ─────────────── v0.3.3+0\n",
            "\u001b[32m\u001b[1m   Installed\u001b[22m\u001b[39m normaliz_jll ───────────── v300.1001.502+0\n",
            "\u001b[32m\u001b[1m   Installed\u001b[22m\u001b[39m CxxWrap ────────────────── v0.17.1\n",
            "\u001b[32m\u001b[1m   Installed\u001b[22m\u001b[39m ASL_jll ────────────────── v0.1.3+0\n",
            "\u001b[32m\u001b[1m   Installed\u001b[22m\u001b[39m AbstractAlgebra ────────── v0.46.0\n",
            "\u001b[32m\u001b[1m   Installed\u001b[22m\u001b[39m DecFP_jll ──────────────── v2.0.3+1\n",
            "\u001b[32m\u001b[1m   Installed\u001b[22m\u001b[39m DecFP ──────────────────── v1.4.1\n",
            "\u001b[32m\u001b[1m   Installed\u001b[22m\u001b[39m bliss_jll ──────────────── v0.77.0+1\n",
            "\u001b[32m\u001b[1m   Installed\u001b[22m\u001b[39m Polymake ───────────────── v0.13.0\n",
            "\u001b[32m\u001b[1m   Installed\u001b[22m\u001b[39m PPL_jll ────────────────── v1.2.1+0\n",
            "\u001b[32m\u001b[1m   Installed\u001b[22m\u001b[39m Ninja_jll ──────────────── v1.12.1+0\n",
            "\u001b[32m\u001b[1m   Installed\u001b[22m\u001b[39m cddlib_jll ─────────────── v0.94.15+0\n",
            "\u001b[32m\u001b[1m   Installed\u001b[22m\u001b[39m SCIP_jll ───────────────── v900.200.200+0\n"
          ]
        }
      ]
    }
  ]
}